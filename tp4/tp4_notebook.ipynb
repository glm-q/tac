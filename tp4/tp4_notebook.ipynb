{
 "cells": [
  {
   "attachments": {},
   "cell_type": "markdown",
   "metadata": {},
   "source": [
    "# TP4 : Travail final"
   ]
  },
  {
   "attachments": {},
   "cell_type": "markdown",
   "metadata": {},
   "source": [
    "## Imports et configuration"
   ]
  },
  {
   "cell_type": "code",
   "execution_count": 60,
   "metadata": {},
   "outputs": [
    {
     "name": "stderr",
     "output_type": "stream",
     "text": [
      "[nltk_data] Downloading package stopwords to\n",
      "[nltk_data]     C:\\Users\\glmqu\\AppData\\Roaming\\nltk_data...\n",
      "[nltk_data]   Package stopwords is already up-to-date!\n"
     ]
    }
   ],
   "source": [
    "from collections import defaultdict\n",
    "import os\n",
    "import sys\n",
    "import collections\n",
    "import re\n",
    "import string\n",
    "\n",
    "import matplotlib.pyplot as plt\n",
    "import numpy as np\n",
    "import pandas as pd\n",
    "from pprint import pprint\n",
    "\n",
    "import nltk\n",
    "nltk.download('stopwords')\n",
    "from nltk import word_tokenize\n",
    "from nltk.corpus import stopwords\n",
    "from nltk.tokenize import wordpunct_tokenize\n",
    "from nltk.tokenize import sent_tokenize\n",
    "\n",
    "import yake\n",
    "from collections import Counter\n",
    "from wordcloud import WordCloud\n",
    "from IPython.display import Image\n",
    "from IPython.display import display\n",
    "\n",
    "import spacy\n",
    "from spacy.lang.fr.examples import sentences\n",
    "nlp = spacy.load('fr_core_news_md')\n",
    "\n",
    "from textblob import Blobber\n",
    "from textblob_fr import PatternTagger, PatternAnalyzer\n",
    "\n",
    "from scipy.spatial.distance import cosine\n",
    "from sklearn.cluster import KMeans\n",
    "from sklearn.decomposition import PCA\n",
    "from sklearn.feature_extraction.text import TfidfVectorizer\n",
    "\n",
    "import pickle\n",
    "from gensim.models import Word2Vec\n",
    "from gensim.models.phrases import Phraser, Phrases\n",
    "from unidecode import unidecode"
   ]
  },
  {
   "cell_type": "code",
   "execution_count": 45,
   "metadata": {},
   "outputs": [],
   "source": [
    "path = \"../data/tp4_txt/\"\n",
    "files = sorted(os.listdir(path))\n",
    "\n",
    "temp_path = '../data/tmp/'\n",
    "if not os.path.exists(temp_path):\n",
    "    os.mkdir(temp_path)"
   ]
  },
  {
   "cell_type": "code",
   "execution_count": 46,
   "metadata": {},
   "outputs": [],
   "source": [
    "sw = stopwords.words(\"french\")\n",
    "sw += [\n",
    "    # Coquilles OCR pas enlevées par fonction de nettoyage\n",
    "    \"brux\", \"belg\", \"cond\", \"intér\",\"télép\", \"téléph\", \"parf\", \"aven\", \"épous\", \"lntér\", \"poli\", \"référ\", \"culs\", \"serv\", \"trav\", \"pers\", \"conf\", \"sach\", \"conn\", \"cuis\", \"chauf\", \"chauff\", \"journ\", \"cherc\", \"flam\", \"exlg\", \"ouvr\", \"prop\", \"meub\", \"domest\", \"chaus\", \"préf\", \"angl\", \"inst\", \"repr\", \"jard\", \"chamb\", \"terr\", \"franç\", \"élect\", \"conv\", \"rapp\", \"centr\", \"atel\", \"plac\", \"appartem\", \"coch\", \"tranq\", \"pled\", \"compr\", \"schaerb\", \"condlt\", \"adres\", \"aujourd\", \"couch\", \"compt\", \"pens\", \"exig\", \"conc\", \"comp\", \"situât\", \"merc\", \"gara\", \"couch\", \"charlerol\",\n",
    "    # Mots (quasiment) vides de sens\n",
    "    \"les\", \"plus\", \"cette\", \"fait\", \"faire\", \"être\", \"deux\", \"comme\", \"dont\", \"tout\", \"ils\", \"bien\", \"sans\", \"peut\", \"tous\", \"après\", \"ainsi\", \"donc\", \"cet\", \"sous\", \"celle\", \"entre\", \"encore\", \"toutes\", \"toute\", \"pendant\", \"moins\", \"dire\", \"voir\", \"cela\", \"non\", \"faut\", \"trois\", \"quatre\", \"cinq\", \"quart\", \"demi\", \"aussi\", \"dit\", \"avoir\", \"doit\", \"contre\", \"depuis\", \"autres\", \"van\", \"het\", \"autre\", \"jusqu\", \"très\", \"trop\", \"chez\", \"près\", \"toutes\", \"leurs\", \"avant\", \"suite\", \"rien\", \"quelques\", \"puis\", \"alors\", \"quand\", \"ceux\", \"elles\", \"déjà\", \"celui\", \"devant\", \"toujours\", \"outre\", \"tant\", \"mieux\", \"assez\", \"beaucoup\", \"plusieurs\", \"quelque\", \"quelques\", \"vers\", \"ensuite\", \"voici\", \"notamment\", \"chaque\", \"laquelle\", \"parmi\",\n",
    "    # Mots pas pertinents dans le contexte du journal\n",
    "    \"rossel\", \"agence\", \"nord\", \"midi\", \"royale\", \"ville\", \"avenue\", \"place\", \"boulevard\", \"chaussée\", \"saint\", \"octobre\", \"mardi\", \"août\", \"dimanche\", \"septembre\", \"lundi\", \"décembre\", \"janvier\", \"juin\", \"avril\", \"mercredi\", \"samedi\", \"novembre\", \"jeudi\", \"vendredi\"]\n",
    "sw = set(sw)"
   ]
  },
  {
   "cell_type": "code",
   "execution_count": null,
   "metadata": {},
   "outputs": [],
   "source": [
    "##TODO à adapter pour créer un fichier unique\n",
    "\n",
    "txts = [f for f in os.listdir(path) if os.path.isfile(os.path.join(path, f))]\n",
    "\n",
    "# Stocker le contenu de ces fichiers dans une liste\n",
    "content_list = []\n",
    "for txt in txts:\n",
    "    with open(os.path.join(path, txt), 'r', encoding=\"utf-8\") as f:\n",
    "        content_list.append(f.read())\n",
    "\n",
    "# Ecrire tout le contenu dans un fichier temporaire\n",
    "with open(os.path.join(temp_path, f'tp4_all.txt'), 'w', encoding=\"utf-8\") as f:\n",
    "    f.write(' '.join(content_list))"
   ]
  },
  {
   "cell_type": "code",
   "execution_count": null,
   "metadata": {},
   "outputs": [],
   "source": [
    "##TODO fonction de nettoyage à adapter\n",
    "\n",
    "def clean_text(year, folder=None):\n",
    "    if folder is None:\n",
    "        input_path = f\"{year}.txt\"\n",
    "        output_path = f\"{year}_clean.txt\"\n",
    "    else:\n",
    "        input_path = f\"{folder}/{year}.txt\"\n",
    "        output_path = f\"{folder}/{year}_clean.txt\"\n",
    "    output = open(output_path, \"w\", encoding='utf-8')\n",
    "    with open(input_path, encoding='utf-8') as f:\n",
    "        text = f.read()\n",
    "        words = nltk.wordpunct_tokenize(text)\n",
    "        kept = [w.lower() for w in words if len(w) > 3 and w.isalpha() and w.lower() not in sw]\n",
    "        kept_string = \" \".join(kept)\n",
    "        output.write(kept_string)\n",
    "    return f'Output has been written in {output_path}!'"
   ]
  },
  {
   "cell_type": "code",
   "execution_count": null,
   "metadata": {},
   "outputs": [],
   "source": [
    "#TODO sentence tokenizer\n",
    "\n",
    "infile = \"../data/all.txt\"\n",
    "outfile = \"../data/sents.txt\"\n",
    "\n",
    "LIMIT = None\n",
    "\n",
    "with open(outfile, 'w', encoding=\"utf-8\") as output:\n",
    "    with open(infile, encoding=\"utf-8\", errors=\"backslashreplace\") as f:\n",
    "        content = f.readlines()\n",
    "        content = content[:LIMIT] if LIMIT is not None else content\n",
    "        n_lines = len(content)\n",
    "        for i, line in enumerate(content):\n",
    "            if i % 100 == 0:\n",
    "                print(f'processing line {i}/{n_lines}')\n",
    "            sentences = sent_tokenize(line)\n",
    "            for sent in sentences:\n",
    "                output.write(sent + \"\\n\")\n",
    "print(\"Done\")"
   ]
  },
  {
   "attachments": {},
   "cell_type": "markdown",
   "metadata": {},
   "source": [
    "# Exploration du corpus"
   ]
  },
  {
   "cell_type": "code",
   "execution_count": 4,
   "metadata": {},
   "outputs": [
    {
     "data": {
      "text/plain": [
       "3308"
      ]
     },
     "execution_count": 4,
     "metadata": {},
     "output_type": "execute_result"
    }
   ],
   "source": [
    "len(files)"
   ]
  },
  {
   "attachments": {},
   "cell_type": "markdown",
   "metadata": {},
   "source": [
    "## Par année et par journal (TODO)"
   ]
  },
  {
   "cell_type": "code",
   "execution_count": 48,
   "metadata": {},
   "outputs": [],
   "source": [
    "all_years = [str(year) for year in range(1921, 1966)]\n",
    "\n",
    "count_decade = defaultdict(int)\n",
    "count_year = defaultdict(int)\n",
    "count_month = defaultdict(int)\n",
    "count_newspapers = defaultdict(int)\n",
    "covered_years = set()\n",
    "\n",
    "for f in files:\n",
    "    if \"_\" in f and f.endswith(\"txt\"):\n",
    "        elems = f.split(\"_\")\n",
    "        \n",
    "        newspaper = elems[1]\n",
    "        \n",
    "        year = elems[2].split(\"-\")[0]\n",
    "        covered_years.add(year)\n",
    "        decade = year[:3] + \"0s\"\n",
    "        \n",
    "        month = int(elems[2].split(\"-\")[1])\n",
    "        \n",
    "        count_year[year] += 1\n",
    "        count_decade[decade] += 1\n",
    "        count_newspapers[newspaper] += 1\n",
    "        count_month[month] += 1\n",
    "    else:\n",
    "        print(f\"Anomalous file: {f}\")"
   ]
  },
  {
   "cell_type": "code",
   "execution_count": 12,
   "metadata": {},
   "outputs": [
    {
     "name": "stdout",
     "output_type": "stream",
     "text": [
      "Il y a 2621 exemplaires du Soir et 687 exemplaires du Drapeau Rouge\n"
     ]
    }
   ],
   "source": [
    "print(f\"Il y a {count_newspapers['JB838']} exemplaires du Soir et {count_newspapers['JB1051']} exemplaires du Drapeau Rouge\")"
   ]
  },
  {
   "cell_type": "code",
   "execution_count": 10,
   "metadata": {},
   "outputs": [
    {
     "name": "stdout",
     "output_type": "stream",
     "text": [
      "Années manquantes: \n"
     ]
    }
   ],
   "source": [
    "missing_years = [y for y in all_years if y not in covered_years]\n",
    "print(f\"Années manquantes: {', '.join(missing_years)}\")"
   ]
  },
  {
   "cell_type": "code",
   "execution_count": 28,
   "metadata": {},
   "outputs": [
    {
     "data": {
      "image/png": "[encoded data removed]",
      "text/plain": [
       "<Figure size 640x480 with 1 Axes>"
      ]
     },
     "metadata": {},
     "output_type": "display_data"
    }
   ],
   "source": [
    "index = np.arange(len(count_year))\n",
    "plt.bar(index, count_year.values())\n",
    "plt.xlabel('Année')\n",
    "plt.ylabel('Nombre de documents')\n",
    "plt.xticks(index, sorted(count_year.keys()), fontsize=8, rotation=90)\n",
    "plt.title('Nombre de documents par année')\n",
    "plt.show()"
   ]
  },
  {
   "attachments": {},
   "cell_type": "markdown",
   "metadata": {},
   "source": [
    "## Vocabulaire du corpus"
   ]
  },
  {
   "cell_type": "code",
   "execution_count": 50,
   "metadata": {},
   "outputs": [],
   "source": [
    "limit = 10**8\n",
    "\n",
    "#TODO il faut créer un fichier temp avec tous les fichiers\n",
    "\n",
    "with open(path + f, \"r\", encoding=\"utf-8\") as f:\n",
    "    text = f.read()[:limit]"
   ]
  },
  {
   "cell_type": "code",
   "execution_count": 51,
   "metadata": {},
   "outputs": [
    {
     "name": "stdout",
     "output_type": "stream",
     "text": [
      "9001 words found\n"
     ]
    },
    {
     "data": {
      "text/plain": [
       "['LE',\n",
       " 'som',\n",
       " 'MARDI',\n",
       " '27',\n",
       " 'DECEMBRE',\n",
       " '1966',\n",
       " 'AU',\n",
       " 'PALAIS',\n",
       " 'DES',\n",
       " 'BEAUX']"
      ]
     },
     "execution_count": 51,
     "metadata": {},
     "output_type": "execute_result"
    }
   ],
   "source": [
    "# Tokenization\n",
    "words = nltk.wordpunct_tokenize(text)\n",
    "print(f\"{len(words)} words found\")\n",
    "words[:10]"
   ]
  },
  {
   "cell_type": "code",
   "execution_count": 58,
   "metadata": {},
   "outputs": [
    {
     "name": "stdout",
     "output_type": "stream",
     "text": [
      "3208 words kept (2172 different word forms)\n",
      "Hapaxes: ['som', 'decembre', 'von', 'accorde', 'soins', 'petites', 'sentiments', 'distractions', 'choisit', 'montrer', 'achats', 'cavernes', 'ali', 'baba', 'doivent', 'enrichir', 'patrimoine', 'délicate', 'certain', 'désarroi', 'règne', 'tient', 'crépuscule', 'génération', 'amateurs', 'flottement', 'indécis', 'wmï', 'hollandais', 'composition']\n"
     ]
    },
    {
     "data": {
      "image/png": "[encoded data removed]",
      "text/plain": [
       "<Figure size 640x480 with 1 Axes>"
      ]
     },
     "metadata": {},
     "output_type": "display_data"
    },
    {
     "data": {
      "text/plain": [
       "<AxesSubplot: xlabel='Samples', ylabel='Cumulative Counts'>"
      ]
     },
     "execution_count": 58,
     "metadata": {},
     "output_type": "execute_result"
    }
   ],
   "source": [
    "# Eliminer les stopwords et les termes non alphabétiques\n",
    "kept = [w.lower() for w in words if len(w) > 2 and w.isalpha() and w.lower() not in sw]\n",
    "voc = set(kept)\n",
    "print(f\"{len(kept)} words kept ({len(voc)} different word forms)\")\n",
    "\n",
    "fdist = nltk.FreqDist(kept)\n",
    "fdist.most_common(10)\n",
    "\n",
    "print(\"Hapaxes:\", fdist.hapaxes()[:30])\n",
    "\n",
    "# Plot: les n mots les plus fréquents\n",
    "n = 10\n",
    "fdist.plot(n, cumulative=True)"
   ]
  },
  {
   "attachments": {},
   "cell_type": "markdown",
   "metadata": {},
   "source": [
    "# Extraction d'information"
   ]
  },
  {
   "attachments": {},
   "cell_type": "markdown",
   "metadata": {},
   "source": [
    "## Keywords"
   ]
  },
  {
   "cell_type": "code",
   "execution_count": null,
   "metadata": {},
   "outputs": [],
   "source": [
    "# Instantier l'extracteur de mots clés en fr + les 50 premiers\n",
    "kw_extractor = yake.KeywordExtractor(lan=\"fr\", top=50)\n",
    "kw_extractor\n",
    "\n",
    "# Récupérer le texte du temporaire de l'année étudiée, en mode lecture ('r'), en encodage utf-8\n",
    "text = open(os.path.join(temp_path, f'tp4_all.txt'), 'r', encoding=\"utf-8\").read()\n",
    "\n",
    "# Extraire les mots clés de ce texte\n",
    "keywords = kw_extractor.extract_keywords(text)\n",
    "keywords"
   ]
  },
  {
   "cell_type": "code",
   "execution_count": null,
   "metadata": {},
   "outputs": [],
   "source": [
    "# Ne garder que les bigrammes / trigrammes et plus\n",
    "kept = []\n",
    "for kw, score in keywords:\n",
    "    words = kw.split()\n",
    "    if len(words) == 2:\n",
    "    # if len(words) == 3:\n",
    "    # if len(words) > 3 :\n",
    "        kept.append(kw)\n",
    "kept"
   ]
  },
  {
   "cell_type": "code",
   "execution_count": null,
   "metadata": {},
   "outputs": [],
   "source": [
    "# Faire la même opération sur tous les documents\n",
    "\n",
    "for f in sorted(files)[:10]:\n",
    "    text = open(os.path.join(path, f), 'r', encoding=\"utf-8\").read()\n",
    "    keywords = kw_extractor.extract_keywords(text)\n",
    "    kept = []\n",
    "    for kw, score in keywords:\n",
    "        words = kw.split()\n",
    "        if len(words) == 2:\n",
    "            kept.append(kw)\n",
    "    print(f\"{f} mentions these keywords: {', '.join(kept)}...\")"
   ]
  },
  {
   "attachments": {},
   "cell_type": "markdown",
   "metadata": {},
   "source": [
    "## Wordcloud"
   ]
  },
  {
   "cell_type": "code",
   "execution_count": null,
   "metadata": {},
   "outputs": [],
   "source": [
    "# Appliquer la fonction et vérifier les résultats\n",
    "\n",
    "clean_text(year, folder=temp_path)\n",
    "\n",
    "with open(os.path.join(temp_path, f'{year}_clean.txt'), 'r', encoding=\"utf-8\") as f:\n",
    "    after = f.read()\n",
    "\n",
    "# print(after[:500], \"\\n---\")\n",
    "\n",
    "# Calculer les mots les plus fréquents et afficher les résultats\n",
    "\n",
    "frequencies = Counter(after.split())\n",
    "\n",
    "print(frequencies.most_common(200))"
   ]
  },
  {
   "cell_type": "code",
   "execution_count": null,
   "metadata": {},
   "outputs": [],
   "source": [
    "# Créer, stocker, afficher le nuage de mots\n",
    "\n",
    "cloud = WordCloud(width=2000, height=1000, background_color='white').generate_from_frequencies(frequencies)\n",
    "cloud.to_file(os.path.join(temp_path, f\"{year}.png\"))\n",
    "Image(filename=os.path.join(temp_path, f\"{year}.png\"))"
   ]
  },
  {
   "attachments": {},
   "cell_type": "markdown",
   "metadata": {},
   "source": [
    "## NER"
   ]
  },
  {
   "cell_type": "code",
   "execution_count": null,
   "metadata": {},
   "outputs": [],
   "source": [
    "# Charger le texte\n",
    "n=100000\n",
    "text_NER = open(os.path.join(temp_path, f\"{year}.txt\"), 'r', encoding=\"utf-8\").read()[:n]\n",
    "\n",
    "# Traiter le texte\n",
    "\n",
    "doc = nlp(text_NER)\n",
    "\n",
    "# Compter les entités (personnes, lieux, organisations)\n",
    "\n",
    "people = defaultdict(int)\n",
    "places = defaultdict(int)\n",
    "orga = defaultdict(int)\n",
    "\n",
    "for ent in doc.ents:\n",
    "    if ent.label_ == \"PER\" and len(ent.text) > 3:\n",
    "        people[ent.text] += 1\n",
    "    elif ent.label_ == \"LOC\" and len(ent.text) > 3:\n",
    "        places[ent.text] += 1\n",
    "    elif ent.label_ == \"ORG\" and len(ent.text) > 3:\n",
    "        orga[ent.text] += 1\n",
    "\n",
    "# Trier\n",
    "\n",
    "sorted_people = sorted(people.items(), key=lambda kv: kv[1], reverse=True)\n",
    "sorted_places = sorted(places.items(), key=lambda kv: kv[1], reverse=True)\n",
    "sorted_orga = sorted(orga.items(), key=lambda kv: kv[1], reverse=True)"
   ]
  },
  {
   "cell_type": "code",
   "execution_count": null,
   "metadata": {},
   "outputs": [],
   "source": [
    "# Imprimer les 50 premières personnes\n",
    "\n",
    "for person, freq in sorted_people[:50]:\n",
    "    print(f\"{person} apparait {freq} fois dans le corpus\")"
   ]
  },
  {
   "cell_type": "code",
   "execution_count": null,
   "metadata": {},
   "outputs": [],
   "source": [
    "# Imprimer les 50 premiers lieux\n",
    "\n",
    "for place, freq in sorted_places[:50]:\n",
    "    print(f\"{place} apparait {freq} fois dans le corpus\")"
   ]
  },
  {
   "cell_type": "code",
   "execution_count": null,
   "metadata": {},
   "outputs": [],
   "source": [
    "# Imprimer les 50 premières organisations\n",
    "\n",
    "for orga, freq in sorted_orga[:50]:\n",
    "    print(f\"{orga} apparait {freq} fois dans le corpus\")"
   ]
  },
  {
   "attachments": {},
   "cell_type": "markdown",
   "metadata": {},
   "source": [
    "## Sentiment Analysis"
   ]
  },
  {
   "cell_type": "code",
   "execution_count": null,
   "metadata": {},
   "outputs": [],
   "source": [
    "# Fonction\n",
    "\n",
    "tb = Blobber(pos_tagger=PatternTagger(), analyzer=PatternAnalyzer())\n",
    "\n",
    "def get_sentiment(input_text):\n",
    "    blob = tb(input_text)\n",
    "    polarity, subjectivity = blob.sentiment\n",
    "    polarity_perc = f\"{100*abs(polarity):.0f}\"\n",
    "    subjectivity_perc = f\"{100*subjectivity:.0f}\"\n",
    "    if polarity > 0:\n",
    "        polarity_str = f\"{polarity_perc}% positive\"\n",
    "    elif polarity < 0:\n",
    "        polarity_str = f\"{polarity_perc}% negative\"\n",
    "    else:\n",
    "        polarity_str = \"neutral\"\n",
    "    if subjectivity > 0:\n",
    "        subjectivity_str = f\"{subjectivity}% subjective\"\n",
    "    else:\n",
    "        subjectivity_str = \"perfectly objective\"\n",
    "    print(f\"This text is {polarity_str} and {subjectivity_str}.\")"
   ]
  },
  {
   "cell_type": "code",
   "execution_count": null,
   "metadata": {},
   "outputs": [],
   "source": [
    "# Exécuter la fonction sur des phrases choisies manuellement\n",
    "\n",
    "get_sentiment(\"Trois d’entre elles purent être assez rapidement dégagées; quant au jeune Taelemans il fut tiré de sa situation critique sans connaissance.\")"
   ]
  },
  {
   "attachments": {},
   "cell_type": "markdown",
   "metadata": {},
   "source": [
    "# Clustering"
   ]
  },
  {
   "cell_type": "code",
   "execution_count": null,
   "metadata": {},
   "outputs": [],
   "source": [
    "# Création d'une fonction de pré-traitement\n",
    "\n",
    "def preprocessing(text, stem=True):\n",
    "    \"\"\" Tokenize text and remove punctuation \"\"\"\n",
    "    text = text.translate(string.punctuation)\n",
    "    tokens = word_tokenize(text)\n",
    "    return tokens\n",
    "\n",
    "# Instancier le modèle TF-IDF avec ses arguments\n",
    "\n",
    "vectorizer = TfidfVectorizer(\n",
    "    tokenizer=preprocessing,\n",
    "    stop_words=stopwords.words('french'),\n",
    "    max_df=0.5, #ignorer les mots apparaissant dans plus de 50% des docs\n",
    "    min_df=0.1, #ignorer les mots apparaissant dans moins de 10% des docs\n",
    "    lowercase=True #tout mettre en minuscules\n",
    ")\n",
    "\n",
    "# Construire la matrice de vecteurs à l'aide de la fonction `fit_transform`\n",
    "\n",
    "tfidf_vectors = vectorizer.fit_transform(texts)"
   ]
  },
  {
   "cell_type": "code",
   "execution_count": null,
   "metadata": {},
   "outputs": [],
   "source": [
    "# Imprimer les détails de la matrice\n",
    "\n",
    "tfidf_vectors"
   ]
  },
  {
   "attachments": {},
   "cell_type": "markdown",
   "metadata": {},
   "source": [
    "## Faire les clusters"
   ]
  },
  {
   "cell_type": "code",
   "execution_count": null,
   "metadata": {},
   "outputs": [],
   "source": [
    "# Elbow method pour déterminer le nbre de clusters optimal\n",
    "\n",
    "distortions = []\n",
    "K = range(1,15) #tested:1-10, 1-15, 1-30\n",
    "for k in K:\n",
    "    kmeanModel = KMeans(n_clusters=k)\n",
    "    kmeanModel.fit(tfidf_vectors)\n",
    "    distortions.append(kmeanModel.inertia_)\n",
    "\n",
    "plt.figure(figsize=(16,8))\n",
    "plt.plot(K, distortions, 'bx-')\n",
    "plt.xlabel('k')\n",
    "plt.ylabel('Distortion')\n",
    "plt.title('The Elbow Method showing the optimal k')\n",
    "plt.show()"
   ]
  },
  {
   "cell_type": "code",
   "execution_count": null,
   "metadata": {},
   "outputs": [],
   "source": [
    "# Nbre clusters\n",
    "\n",
    "N_CLUSTERS = 4\n",
    "\n",
    "# Instancier le modèle K-Means et ses arguments\n",
    "\n",
    "km_model = KMeans(n_clusters=N_CLUSTERS)\n",
    "\n",
    "# Appliquer le clustering à l'aide de la fonction fit_predict\n",
    "\n",
    "clusters = km_model.fit_predict(tfidf_vectors)\n",
    "\n",
    "clustering = collections.defaultdict(list)\n",
    "\n",
    "for idx, label in enumerate(clusters):\n",
    "    clustering[label].append(files[idx])"
   ]
  },
  {
   "cell_type": "code",
   "execution_count": null,
   "metadata": {},
   "outputs": [],
   "source": [
    "# Afficher le résultat du clustering (un dictionnaire)\n",
    "\n",
    "dict(clustering)"
   ]
  },
  {
   "cell_type": "code",
   "execution_count": null,
   "metadata": {},
   "outputs": [],
   "source": [
    "# Réduire les vecteurs à 2 dimensions\n",
    "\n",
    "pca = PCA(n_components=2)\n",
    "reduced_vectors = pca.fit_transform(tfidf_vectors.toarray())\n",
    "\n",
    "# Générer le graphe\n",
    "\n",
    "x_axis = reduced_vectors[:, 0]\n",
    "y_axis = reduced_vectors[:, 1]\n",
    "\n",
    "plt.figure(figsize=(10,10))\n",
    "scatter = plt.scatter(x_axis, y_axis, s=100, c=clusters)\n",
    "\n",
    "## Ajouter les centroïdes\n",
    "centroids = pca.transform(km_model.cluster_centers_)\n",
    "plt.scatter(centroids[:, 0], centroids[:, 1],  marker = \"x\", s=100, linewidths = 2, color='black')\n",
    "\n",
    "## Ajouter la légende\n",
    "plt.legend(handles=scatter.legend_elements()[0], labels=set(clusters), title=\"Clusters\")"
   ]
  },
  {
   "attachments": {},
   "cell_type": "markdown",
   "metadata": {},
   "source": [
    "## Explorer les clusters"
   ]
  },
  {
   "cell_type": "code",
   "execution_count": null,
   "metadata": {},
   "outputs": [],
   "source": [
    "# Créer des fichiers tmp avec les textes des clusters\n",
    "\n",
    "for key in clustering.keys():\n",
    "    \n",
    "    tmp_content_list = []\n",
    "\n",
    "    for txt in clustering[key]:\n",
    "        \n",
    "        with open(os.path.join(txt_path, txt), 'r', encoding=\"utf-8\") as f:\n",
    "            tmp_content_list.append(f.read())\n",
    "        \n",
    "    with open(os.path.join(temp_path, f'{DECADE}s_cluster_{key}.txt'), 'w', encoding=\"utf-8\") as f:\n",
    "        f.write(' '.join(tmp_content_list))   "
   ]
  },
  {
   "cell_type": "code",
   "execution_count": null,
   "metadata": {},
   "outputs": [],
   "source": [
    "# Regarder le nombre de documents par cluster\n",
    "\n",
    "for key in clustering.keys():\n",
    "    print(f\"Nombre de documents dans le cluster {key} : {len(clustering[key])}\")"
   ]
  },
  {
   "cell_type": "code",
   "execution_count": null,
   "metadata": {},
   "outputs": [],
   "source": [
    "# Regarder la distribution des clusters selon les années\n",
    "\n",
    "# Fonction basée autour d'une regex pour détecter l'année dans un nom de fichier\n",
    "def get_year(filename):\n",
    "    year = (re.search(\"([0-9]{4})\", filename)).group()\n",
    "    return year\n",
    "\n",
    "# Création d'une liste de listes pour stocker les années pour chaque cluster\n",
    "years_per_cluster = []\n",
    "for key in clustering.keys():\n",
    "    years_per_cluster.append([])\n",
    "\n",
    "# Double boucle pour ajouter l'année pour chaque cluster\n",
    "for key in clustering.keys():\n",
    "    for i in clustering[key]:\n",
    "        years_per_cluster[key].append(get_year(i))\n",
    "    \n",
    "    # testing\n",
    "    # print(key, len(years_per_cluster[key]))\n",
    "\n",
    "# testing\n",
    "# print(years_per_cluster[0].count('1932'))\n",
    "\n",
    "# Créer des graphes pour chaque cluster, en utilisant Counter pour compter le nbre de fichiers par années dans la liste de listes\n",
    "for key in clustering.keys():\n",
    "    tmp_counter = Counter(years_per_cluster[key])\n",
    "    print(f\"Cluster n° {key},\", f\"Nbre doc : {len(clustering[key])},\", tmp_counter)\n",
    "\n",
    "    plt.bar(tmp_counter.keys(), tmp_counter.values())\n",
    "    plt.title(f\"Cluster {key} : Nombre de documents par année\")\n",
    "    plt.show()"
   ]
  },
  {
   "cell_type": "code",
   "execution_count": null,
   "metadata": {},
   "outputs": [],
   "source": [
    "# Regarder les mots-clés de chaque cluster\n",
    "\n",
    "# Instantier l'extracteur de mots clés en fr + les 50 premiers\n",
    "kw_extractor = yake.KeywordExtractor(lan=\"fr\", top=50)\n",
    "\n",
    "# Récupérer le texte sauvegardé ci-dessus\n",
    "text = open(os.path.join(temp_path, f'{DECADE}s_cluster_0.txt'), 'r', encoding=\"utf-8\").read()\n",
    "\n",
    "# Extraire les mots clés de ce texte\n",
    "keywords = kw_extractor.extract_keywords(text)\n",
    "print(f\"Keywords, cluster n° 0 : {keywords}\")\n",
    "\n",
    "# Ne garder que les bigrammes / trigrammes\n",
    "kept_bigrams = []\n",
    "kept_trigrams = []\n",
    "for kw, score in keywords:\n",
    "    words = kw.split()\n",
    "    if len(words) == 2: # si c'est un bigramme\n",
    "        kept_bigrams.append(kw)\n",
    "    elif len(words) == 3: # si c'est un trigramme\n",
    "        kept_trigrams.append(kw)\n",
    "\n",
    "print(f\"Bigrammes récurrents, cluster n° 0 : {kept_bigrams}\")\n",
    "print(f\"Trigrammes récurrents, cluster n° 0 : {kept_trigrams}\")\n",
    "print(\"\")"
   ]
  },
  {
   "cell_type": "code",
   "execution_count": null,
   "metadata": {},
   "outputs": [],
   "source": [
    "# Stopwords\n",
    "sw = stopwords.words(\"french\")\n",
    "sw += [\n",
    "    # Coquilles OCR pas enlevées par fonction de nettoyage\n",
    "    \"brux\", \"belg\", \"cond\", \"intér\",\"télép\", \"téléph\", \"parf\", \"aven\", \"épous\", \"lntér\", \"poli\", \"référ\", \"culs\", \"serv\", \"trav\", \"pers\", \"conf\", \"sach\", \"conn\", \"cuis\", \"chauf\", \"chauff\", \"journ\", \"cherc\", \"flam\", \"exlg\", \"ouvr\", \"prop\", \"meub\", \"domest\", \"chaus\", \"préf\", \"angl\", \"inst\", \"repr\", \"jard\", \"chamb\", \"terr\", \"franç\", \"élect\", \"conv\", \"rapp\", \"centr\", \"atel\", \"plac\", \"appartem\", \"coch\", \"tranq\", \"pled\", \"compr\", \"schaerb\", \"condlt\", \"adres\", \"aujourd\", \"couch\", \"compt\", \"pens\", \"exig\", \"conc\", \"comp\", \"situât\", \"merc\", \"gara\", \"couch\", \"charlerol\",\n",
    "    # Mots (quasiment) vides de sens\n",
    "    \"les\", \"plus\", \"cette\", \"fait\", \"faire\", \"être\", \"deux\", \"comme\", \"dont\", \"tout\", \"ils\", \"bien\", \"sans\", \"peut\", \"tous\", \"après\", \"ainsi\", \"donc\", \"cet\", \"sous\", \"celle\", \"entre\", \"encore\", \"toutes\", \"toute\", \"pendant\", \"moins\", \"dire\", \"voir\", \"cela\", \"non\", \"faut\", \"trois\", \"quatre\", \"cinq\", \"quart\", \"demi\", \"aussi\", \"dit\", \"avoir\", \"doit\", \"contre\", \"depuis\", \"autres\", \"van\", \"het\", \"autre\", \"jusqu\", \"très\", \"trop\", \"chez\", \"près\", \"toutes\", \"leurs\", \"avant\", \"suite\", \"rien\", \"quelques\", \"puis\", \"alors\", \"quand\", \"ceux\", \"elles\", \"déjà\", \"celui\", \"devant\", \"toujours\", \"outre\", \"tant\", \"mieux\", \"assez\", \"beaucoup\", \"plusieurs\", \"quelque\", \"quelques\", \"vers\", \"ensuite\", \"voici\", \"notamment\", \"chaque\", \"laquelle\", \"parmi\",\n",
    "    # Mots pas pertinents dans le contexte du journal\n",
    "    \"rossel\", \"agence\", \"nord\", \"midi\", \"royale\", \"ville\", \"avenue\", \"place\", \"boulevard\", \"chaussée\", \"saint\", \"octobre\", \"mardi\", \"août\", \"dimanche\", \"septembre\", \"lundi\", \"décembre\", \"janvier\", \"juin\", \"avril\", \"mercredi\", \"samedi\", \"novembre\", \"jeudi\", \"vendredi\"]\n",
    "sw = set(sw)\n",
    "\n",
    "# Fonction de nettoyage\n",
    "\n",
    "def clean_text(key, folder=None):\n",
    "    if folder is None:\n",
    "        input_path = f\"{DECADE}s_cluster_{key}.txt\"\n",
    "        output_path = f\"{DECADE}s_cluster_{key}_clean.txt\"\n",
    "    else:\n",
    "        input_path = f\"{folder}{DECADE}s_cluster_{key}.txt\"\n",
    "        output_path = f\"{folder}{DECADE}s_cluster_{key}_clean.txt\"\n",
    "    output = open(output_path, \"w\", encoding='utf-8')\n",
    "    with open(input_path, encoding='utf-8') as f:\n",
    "        text = f.read()\n",
    "        words = nltk.wordpunct_tokenize(text)\n",
    "        kept = [w.lower() for w in words if len(w) > 3 and w.isalpha() and w.lower() not in sw]\n",
    "        kept_string = \" \".join(kept)\n",
    "        output.write(kept_string)\n",
    "    return f'Output has been written in {output_path}!'"
   ]
  },
  {
   "attachments": {},
   "cell_type": "markdown",
   "metadata": {},
   "source": [
    "# Word Embeddings"
   ]
  },
  {
   "cell_type": "code",
   "execution_count": null,
   "metadata": {},
   "outputs": [],
   "source": [
    "# Création d'un objet qui streame les lignes d'un fichier pour économiser de la RAM\n",
    "\n",
    "class MySentences(object):\n",
    "    \"\"\"Tokenize and Lemmatize sentences\"\"\" # Permet de tokenizer des \"doubles\" mots, par ex \"premier\" + \"ministre\" va être considéré comme un token \"premier ministre\"\n",
    "    def __init__(self, filename):\n",
    "        self.filename = filename\n",
    "\n",
    "    def __iter__(self):\n",
    "        for line in open(self.filename, encoding='utf-8', errors=\"backslashreplace\"):\n",
    "            yield [unidecode(w.lower()) for w in wordpunct_tokenize(line)]\n",
    "\n",
    "infile = f\"../data/sents.txt\"\n",
    "sentences = MySentences(infile)"
   ]
  },
  {
   "cell_type": "code",
   "execution_count": null,
   "metadata": {},
   "outputs": [],
   "source": [
    "# Création de l'objet 'phrases' = \"dictionnaire d'expressions multi-mots associées à un score\", dont les clés correspondent aux termes du corpus\n",
    "\n",
    "bigram_phrases = Phrases(sentences)"
   ]
  },
  {
   "cell_type": "code",
   "execution_count": null,
   "metadata": {},
   "outputs": [],
   "source": [
    "# Conversion des objets 'phrases' en objet 'phraser' = version light du 'phrases' -> convertit certains unigrams en bigrams s'ils sont pertinents\n",
    "\n",
    "bigram_phraser = Phraser(phrases_model=bigram_phrases)\n",
    "\n",
    "# Sauvegarder l'objet Phraser des bigrammes\n",
    "\n",
    "with open(f\"{temp_path}bigrams.p\", 'wb') as f:\n",
    "    pickle.dump(bigram_phraser, f)"
   ]
  },
  {
   "cell_type": "code",
   "execution_count": null,
   "metadata": {},
   "outputs": [],
   "source": [
    "# Ouvrir l'objet Phraser des bigrammes\n",
    "\n",
    "bigram_phraser = pickle.load(open(f\"{temp_path}bigrams.p\", \"rb\"))"
   ]
  },
  {
   "cell_type": "code",
   "execution_count": null,
   "metadata": {},
   "outputs": [],
   "source": [
    "trigram_phrases = Phrases(bigram_phraser[sentences])"
   ]
  },
  {
   "cell_type": "code",
   "execution_count": null,
   "metadata": {},
   "outputs": [],
   "source": [
    "# Conversion en objet Phraser et sauvegarde du Phraser des trigrammes\n",
    "\n",
    "trigram_phraser = Phraser(phrases_model=trigram_phrases)\n",
    "\n",
    "with open(f\"{temp_path}trigrams.p\", 'wb') as f:\n",
    "    pickle.dump(trigram_phraser, f)"
   ]
  },
  {
   "cell_type": "code",
   "execution_count": null,
   "metadata": {},
   "outputs": [],
   "source": [
    "bigram_phraser = pickle.load(open(f\"{temp_path}bigrams.p\", \"rb\"))\n",
    "trigram_phraser = pickle.load(open(f\"{temp_path}trigrams.p\", \"rb\"))"
   ]
  },
  {
   "cell_type": "code",
   "execution_count": null,
   "metadata": {},
   "outputs": [],
   "source": [
    "corpus = list(trigram_phraser[bigram_phraser[sentences]])\n",
    "\n",
    "# Imprimer une liste de n-grammes, qu'on répère car ils sont séparés par des _\n",
    "\n",
    "print(corpus[:100])"
   ]
  },
  {
   "cell_type": "code",
   "execution_count": null,
   "metadata": {},
   "outputs": [],
   "source": [
    "# Sauvegarder cette liste dans le dossier temporaire\n",
    "# disabled cause not working\n",
    "\n",
    "# with open(f\"{temp_path}ngram_corpus.p\", 'wb') as f:\n",
    "#    pickle.dump(corpus, f)"
   ]
  },
  {
   "cell_type": "code",
   "execution_count": null,
   "metadata": {},
   "outputs": [],
   "source": [
    "# Charger la liste des n-grams\n",
    "# disabled cause not working\n",
    "\n",
    "# corpus = pickle.load(open(\"ngrams_list.p\", \"rb\"))"
   ]
  },
  {
   "cell_type": "code",
   "execution_count": null,
   "metadata": {},
   "outputs": [],
   "source": [
    "%%time\n",
    "model = Word2Vec( # default parameters\n",
    "    corpus, # On passe le corpus de ngrams que nous venons de créer\n",
    "    vector_size=32, # Le nombre de dimensions dans lesquelles le contexte des mots devra être réduit, aka. vector_size\n",
    "    window=5, # La taille du \"contexte\" (avant/après le mot)\n",
    "    min_count=5, # On ignore les mots qui n'apparaissent pas au moins 'min_count' fois dans le corpus\n",
    "    workers=4, # Permet de paralléliser l'entraînement du modèle en plusieurs threads\n",
    "    epochs=5 # Nombre d'itérations du réseau de neurones sur le jeu de données pour ajuster les paramètres avec la descente de gradient, aka. epochs\n",
    ")\n",
    "\n",
    "# Sauver le modèle dans un fichier\n",
    "outfile = f\"{temp_path}newspapers_window5_mincount5.model\"\n",
    "model.save(outfile)"
   ]
  },
  {
   "cell_type": "code",
   "execution_count": null,
   "metadata": {},
   "outputs": [],
   "source": [
    "# Charger les modèles en mémoire dans une liste\n",
    "\n",
    "models = []\n",
    "\n",
    "models.append(Word2Vec.load(f\"{temp_path}newspapers_window5_mincount5.model\"))\n",
    "models.append(Word2Vec.load(f\"{temp_path}newspapers_window3_mincount10.model\"))\n",
    "models.append(Word2Vec.load(f\"{temp_path}newspapers_window10_mincount10.model\"))\n",
    "models.append(Word2Vec.load(f\"{temp_path}newspapers_window20_mincount20.model\"))\n",
    "\n",
    "nb_models = len(models)"
   ]
  },
  {
   "cell_type": "code",
   "execution_count": null,
   "metadata": {},
   "outputs": [],
   "source": [
    "# Fonction \"similarity\" : Calculer la similarité entre deux termes\n",
    "\n",
    "first_term = [\"journaliste\", \"chaud\", \"appartement\", \"socialiste\", \"chanter\", \"arbre\", \"enseigner\"] # première liste des mots\n",
    "second_term = [\"presse\", \"froid\", \"louer\", \"chretien\", \"citroen\", \"branche\", \"theologiens\"] # seconde liste de mots\n",
    "nb_similarity_examples = len(first_term)\n",
    "\n",
    "for i in range (nb_similarity_examples) : # pour chaque exemple\n",
    "    for j in range (nb_models): # pour chaque modèle\n",
    "        print(f\"'{first_term[i]}' et '{second_term[i]}' (modèle {j}) : {models[j].wv.similarity(first_term[i], second_term[i])}\") # imprimer la similarité entre les deux mots issus des deux listes\n",
    "    print(\"\")"
   ]
  },
  {
   "cell_type": "code",
   "execution_count": null,
   "metadata": {},
   "outputs": [],
   "source": [
    "# Fonction \"most_similar\" : Chercher les mots les plus proches d'un terme donné\n",
    "\n",
    "most_similar_word = [\"peugeot\", \"enseigner\", \"rome\", \"bruxelles\", \"jardin\", \"habiter\"] # liste de mots\n",
    "nb_most_similar_examples = len(most_similar_word)\n",
    "\n",
    "for i in range (nb_most_similar_examples) : # pour chaque exemple\n",
    "    for j in range (nb_models): # pour chaque modèle\n",
    "        print(f\"Mots les plus semblables à '{most_similar_word[i]}' (modèle {j}) :\", models[j].wv.most_similar(most_similar_word[i], topn=10)) # imprimer les mots les plus sembables au mot sélectionné\n",
    "    print(\"\")"
   ]
  }
 ],
 "metadata": {
  "kernelspec": {
   "display_name": "Python 3.10.5 ('tac_venv': venv)",
   "language": "python",
   "name": "python3"
  },
  "language_info": {
   "codemirror_mode": {
    "name": "ipython",
    "version": 3
   },
   "file_extension": ".py",
   "mimetype": "text/x-python",
   "name": "python",
   "nbconvert_exporter": "python",
   "pygments_lexer": "ipython3",
   "version": "3.10.5"
  },
  "orig_nbformat": 4,
  "vscode": {
   "interpreter": {
    "hash": "c41795ef67e28f443d51e3530ac426b505c5d8c966af08c2f17a523686b1e2cc"
   }
  }
 },
 "nbformat": 4,
 "nbformat_minor": 2
}
