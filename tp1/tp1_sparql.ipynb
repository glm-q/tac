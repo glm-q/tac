{
 "cells": [
  {
   "cell_type": "markdown",
   "metadata": {},
   "source": [
    "# TP1 : Bases de connaissance : interroger Wikidata à l'aide de requêtes SPARQL"
   ]
  },
  {
   "cell_type": "markdown",
   "metadata": {},
   "source": [
    "## Imports"
   ]
  },
  {
   "cell_type": "code",
   "execution_count": 2,
   "metadata": {},
   "outputs": [],
   "source": [
    "from SPARQLWrapper import SPARQLWrapper, JSON"
   ]
  },
  {
   "cell_type": "markdown",
   "metadata": {},
   "source": [
    "## Obtenir la liste des journaux belges francophones libéraux"
   ]
  },
  {
   "cell_type": "code",
   "execution_count": 3,
   "metadata": {},
   "outputs": [
    {
     "name": "stdout",
     "output_type": "stream",
     "text": [
      "\n",
      "2 journaux belges francophones libéraux trouvés :\n",
      "\n",
      "L'Étoile belge\n",
      "L'Indépendance belge\n"
     ]
    }
   ],
   "source": [
    "# Retrieve results from SPARQL\n",
    "endpoint = \"https://query.wikidata.org/bigdata/namespace/wdq/sparql\"\n",
    "sparql = SPARQLWrapper(endpoint)\n",
    "max_results = 20\n",
    "\n",
    "# P31 = instanceOf (including subclasses with P279, even if it makes the query muuuch slower)\n",
    "# Q11032 = newspaper\n",
    "# P17 = country\n",
    "# Q31 = Belgium\n",
    "# P407 = language of work\n",
    "# Q150 = French\n",
    "# P1142 = political ideology\n",
    "# Q6216 = liberalism (even if all Belgian newspapers doesn't seem to be associated with their political ideologies in Wikidata, resulting in biases in the query's results)\n",
    "statement = \"\"\"\n",
    "SELECT DISTINCT ?item ?itemLabel WHERE {\n",
    "    ?item p:P31/ps:P31/wdt:P279* wd:Q11032 .\n",
    "    ?item wdt:P17 wd:Q31 .\n",
    "    ?item wdt:P407 wd:Q150 .\n",
    "    ?item wdt:P1142 wd:Q6216 .\n",
    "    SERVICE wikibase:label { bd:serviceParam wikibase:language \"fr\" . }\n",
    "}\n",
    "ORDER BY ?item\n",
    "\"\"\"\n",
    "\n",
    "sparql.setQuery(statement)\n",
    "sparql.setReturnFormat(JSON)\n",
    "results = sparql.query().convert()\n",
    "\n",
    "rows = results['results']['bindings']\n",
    "print(f\"\\n{len(rows)} journaux belges francophones libéraux trouvés :\\n\")\n",
    "\n",
    "# Only the newspapers' names are displayed:\n",
    "for row in rows[:max_results]:\n",
    "    print(f\"{row['itemLabel']['value']}\")\n"
   ]
  }
 ],
 "metadata": {
  "kernelspec": {
   "display_name": "Python 3.10.5 ('tac_venv': venv)",
   "language": "python",
   "name": "python3"
  },
  "language_info": {
   "codemirror_mode": {
    "name": "ipython",
    "version": 3
   },
   "file_extension": ".py",
   "mimetype": "text/x-python",
   "name": "python",
   "nbconvert_exporter": "python",
   "pygments_lexer": "ipython3",
   "version": "3.10.5"
  },
  "vscode": {
   "interpreter": {
    "hash": "c41795ef67e28f443d51e3530ac426b505c5d8c966af08c2f17a523686b1e2cc"
   }
  }
 },
 "nbformat": 4,
 "nbformat_minor": 4
}
