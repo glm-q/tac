{
 "cells": [
  {
   "cell_type": "markdown",
   "metadata": {},
   "source": [
    "# Traduction automatique"
   ]
  },
  {
   "cell_type": "markdown",
   "metadata": {},
   "source": [
    "Attention: ce notebook peut ne pas fonctionner sur votre machine. Vous pouvez le tester à travers Google Colab: https://colab.research.google.com/"
   ]
  },
  {
   "cell_type": "markdown",
   "metadata": {},
   "source": [
    "<img src=\"colab.png\" width=\"1000\"/>"
   ]
  },
  {
   "cell_type": "markdown",
   "metadata": {},
   "source": [
    "## Exemple d'utilisation d'un modèle transformers avec Hugging Face"
   ]
  },
  {
   "cell_type": "markdown",
   "metadata": {},
   "source": [
    "Librairies supplémentaires à installer : "
   ]
  },
  {
   "cell_type": "code",
   "execution_count": 3,
   "metadata": {},
   "outputs": [
    {
     "name": "stdout",
     "output_type": "stream",
     "text": [
      "Requirement already satisfied: transformers in c:\\fichiers\\documents\\université\\m2-stic\\stic-b545\\tac\\tac_venv\\lib\\site-packages (4.24.0)\n",
      "Requirement already satisfied: torch in c:\\fichiers\\documents\\université\\m2-stic\\stic-b545\\tac\\tac_venv\\lib\\site-packages (1.13.0)\n",
      "Requirement already satisfied: sentencepiece in c:\\fichiers\\documents\\université\\m2-stic\\stic-b545\\tac\\tac_venv\\lib\\site-packages (0.1.97)\n",
      "Requirement already satisfied: pyyaml>=5.1 in c:\\fichiers\\documents\\université\\m2-stic\\stic-b545\\tac\\tac_venv\\lib\\site-packages (from transformers) (6.0)\n",
      "Requirement already satisfied: regex!=2019.12.17 in c:\\fichiers\\documents\\université\\m2-stic\\stic-b545\\tac\\tac_venv\\lib\\site-packages (from transformers) (2022.9.13)\n",
      "Requirement already satisfied: requests in c:\\fichiers\\documents\\université\\m2-stic\\stic-b545\\tac\\tac_venv\\lib\\site-packages (from transformers) (2.28.1)\n",
      "Requirement already satisfied: numpy>=1.17 in c:\\fichiers\\documents\\université\\m2-stic\\stic-b545\\tac\\tac_venv\\lib\\site-packages (from transformers) (1.23.3)\n",
      "Requirement already satisfied: packaging>=20.0 in c:\\fichiers\\documents\\université\\m2-stic\\stic-b545\\tac\\tac_venv\\lib\\site-packages (from transformers) (21.3)\n",
      "Requirement already satisfied: huggingface-hub<1.0,>=0.10.0 in c:\\fichiers\\documents\\université\\m2-stic\\stic-b545\\tac\\tac_venv\\lib\\site-packages (from transformers) (0.10.1)\n",
      "Requirement already satisfied: tqdm>=4.27 in c:\\fichiers\\documents\\université\\m2-stic\\stic-b545\\tac\\tac_venv\\lib\\site-packages (from transformers) (4.64.1)\n",
      "Requirement already satisfied: filelock in c:\\fichiers\\documents\\université\\m2-stic\\stic-b545\\tac\\tac_venv\\lib\\site-packages (from transformers) (3.8.0)\n",
      "Requirement already satisfied: tokenizers!=0.11.3,<0.14,>=0.11.1 in c:\\fichiers\\documents\\université\\m2-stic\\stic-b545\\tac\\tac_venv\\lib\\site-packages (from transformers) (0.13.2)\n",
      "Requirement already satisfied: typing-extensions in c:\\fichiers\\documents\\université\\m2-stic\\stic-b545\\tac\\tac_venv\\lib\\site-packages (from torch) (4.3.0)\n",
      "Requirement already satisfied: pyparsing!=3.0.5,>=2.0.2 in c:\\fichiers\\documents\\université\\m2-stic\\stic-b545\\tac\\tac_venv\\lib\\site-packages (from packaging>=20.0->transformers) (3.0.9)\n",
      "Requirement already satisfied: colorama in c:\\fichiers\\documents\\université\\m2-stic\\stic-b545\\tac\\tac_venv\\lib\\site-packages (from tqdm>=4.27->transformers) (0.4.5)\n",
      "Requirement already satisfied: urllib3<1.27,>=1.21.1 in c:\\fichiers\\documents\\université\\m2-stic\\stic-b545\\tac\\tac_venv\\lib\\site-packages (from requests->transformers) (1.26.12)\n",
      "Requirement already satisfied: charset-normalizer<3,>=2 in c:\\fichiers\\documents\\université\\m2-stic\\stic-b545\\tac\\tac_venv\\lib\\site-packages (from requests->transformers) (2.1.1)\n",
      "Requirement already satisfied: idna<4,>=2.5 in c:\\fichiers\\documents\\université\\m2-stic\\stic-b545\\tac\\tac_venv\\lib\\site-packages (from requests->transformers) (3.4)\n",
      "Requirement already satisfied: certifi>=2017.4.17 in c:\\fichiers\\documents\\université\\m2-stic\\stic-b545\\tac\\tac_venv\\lib\\site-packages (from requests->transformers) (2022.9.24)\n"
     ]
    },
    {
     "name": "stderr",
     "output_type": "stream",
     "text": [
      "\n",
      "[notice] A new release of pip available: 22.2.2 -> 22.3.1\n",
      "[notice] To update, run: python.exe -m pip install --upgrade pip\n"
     ]
    }
   ],
   "source": [
    "!pip install transformers torch sentencepiece"
   ]
  },
  {
   "cell_type": "markdown",
   "metadata": {},
   "source": [
    "Commençons par importer deux modules : "
   ]
  },
  {
   "cell_type": "code",
   "execution_count": 4,
   "metadata": {},
   "outputs": [
    {
     "name": "stderr",
     "output_type": "stream",
     "text": [
      "c:\\Fichiers\\Documents\\Université\\M2-STIC\\STIC-B545\\tac\\tac_venv\\lib\\site-packages\\tqdm\\auto.py:22: TqdmWarning: IProgress not found. Please update jupyter and ipywidgets. See https://ipywidgets.readthedocs.io/en/stable/user_install.html\n",
      "  from .autonotebook import tqdm as notebook_tqdm\n"
     ]
    }
   ],
   "source": [
    "from transformers import AutoTokenizer, AutoModelForSeq2SeqLM"
   ]
  },
  {
   "cell_type": "markdown",
   "metadata": {},
   "source": [
    "Ensuite téléchargeons un modèle : "
   ]
  },
  {
   "cell_type": "code",
   "execution_count": 5,
   "metadata": {},
   "outputs": [
    {
     "name": "stderr",
     "output_type": "stream",
     "text": [
      "Downloading: 100%|██████████| 42.0/42.0 [00:00<00:00, 6.61kB/s]\n",
      "c:\\Fichiers\\Documents\\Université\\M2-STIC\\STIC-B545\\tac\\tac_venv\\lib\\site-packages\\huggingface_hub\\file_download.py:123: UserWarning: `huggingface_hub` cache-system uses symlinks by default to efficiently store duplicated files but your machine does not support them in C:\\Users\\glmqu\\.cache\\huggingface\\hub. Caching files will still work but in a degraded version that might require more space on your disk. This warning can be disabled by setting the `HF_HUB_DISABLE_SYMLINKS_WARNING` environment variable. For more details, see https://huggingface.co/docs/huggingface_hub/how-to-cache#limitations.\n",
      "To support symlinks on Windows, you either need to activate Developer Mode or to run Python as an administrator. In order to see activate developer mode, see this article: https://docs.microsoft.com/en-us/windows/apps/get-started/enable-your-device-for-development\n",
      "  warnings.warn(message)\n",
      "Downloading: 100%|██████████| 1.42k/1.42k [00:00<00:00, 271kB/s]\n",
      "Downloading: 100%|██████████| 802k/802k [00:00<00:00, 1.06MB/s]\n",
      "Downloading: 100%|██████████| 778k/778k [00:00<00:00, 879kB/s] \n",
      "Downloading: 100%|██████████| 1.34M/1.34M [00:02<00:00, 530kB/s] \n",
      "c:\\Fichiers\\Documents\\Université\\M2-STIC\\STIC-B545\\tac\\tac_venv\\lib\\site-packages\\transformers\\models\\marian\\tokenization_marian.py:194: UserWarning: Recommended: pip install sacremoses.\n",
      "  warnings.warn(\"Recommended: pip install sacremoses.\")\n",
      "Downloading: 100%|██████████| 301M/301M [01:34<00:00, 3.17MB/s] \n"
     ]
    }
   ],
   "source": [
    "model_name = \"Helsinki-NLP/opus-mt-fr-en\"\n",
    "_ = AutoTokenizer.from_pretrained(model_name)\n",
    "_ = AutoModelForSeq2SeqLM.from_pretrained(model_name)"
   ]
  },
  {
   "cell_type": "markdown",
   "metadata": {},
   "source": [
    "Chargeons en mémoire le tokenizer et le modèle :"
   ]
  },
  {
   "cell_type": "code",
   "execution_count": 6,
   "metadata": {},
   "outputs": [
    {
     "name": "stderr",
     "output_type": "stream",
     "text": [
      "c:\\Fichiers\\Documents\\Université\\M2-STIC\\STIC-B545\\tac\\tac_venv\\lib\\site-packages\\transformers\\models\\marian\\tokenization_marian.py:194: UserWarning: Recommended: pip install sacremoses.\n",
      "  warnings.warn(\"Recommended: pip install sacremoses.\")\n"
     ]
    }
   ],
   "source": [
    "tokenizer = AutoTokenizer.from_pretrained(model_name, local_files_only=True)\n",
    "model = AutoModelForSeq2SeqLM.from_pretrained(model_name, local_files_only=True)"
   ]
  },
  {
   "cell_type": "markdown",
   "metadata": {},
   "source": [
    "Nous pouvons à présent traduire..."
   ]
  },
  {
   "cell_type": "code",
   "execution_count": 7,
   "metadata": {},
   "outputs": [
    {
     "name": "stderr",
     "output_type": "stream",
     "text": [
      "c:\\Fichiers\\Documents\\Université\\M2-STIC\\STIC-B545\\tac\\tac_venv\\lib\\site-packages\\transformers\\generation_utils.py:1359: UserWarning: Neither `max_length` nor `max_new_tokens` has been set, `max_length` will default to 512 (`self.config.max_length`). Controlling `max_length` via the config is deprecated and `max_length` will be removed from the config in v5 of Transformers -- we recommend using `max_new_tokens` to control the maximum length of the generation.\n",
      "  warnings.warn(\n"
     ]
    },
    {
     "name": "stdout",
     "output_type": "stream",
     "text": [
      "['My tailor is rich.']\n"
     ]
    }
   ],
   "source": [
    "text = \"Mon tailleur est riche.\"\n",
    "tokenized_text = tokenizer(text, return_tensors='pt', padding=True)\n",
    "\n",
    "translation = model.generate(**tokenized_text)\n",
    "translated = tokenizer.batch_decode(translation, skip_special_tokens=True)\n",
    "print(translated)"
   ]
  },
  {
   "cell_type": "markdown",
   "metadata": {},
   "source": [
    "Pour plus de facilité, vous pouvez aussi utiliser <https://github.com/Teuze/translate>"
   ]
  }
 ],
 "metadata": {
  "kernelspec": {
   "display_name": "Python 3.10.5 ('tac_venv': venv)",
   "language": "python",
   "name": "python3"
  },
  "language_info": {
   "codemirror_mode": {
    "name": "ipython",
    "version": 3
   },
   "file_extension": ".py",
   "mimetype": "text/x-python",
   "name": "python",
   "nbconvert_exporter": "python",
   "pygments_lexer": "ipython3",
   "version": "3.10.5"
  },
  "vscode": {
   "interpreter": {
    "hash": "c41795ef67e28f443d51e3530ac426b505c5d8c966af08c2f17a523686b1e2cc"
   }
  }
 },
 "nbformat": 4,
 "nbformat_minor": 4
}
