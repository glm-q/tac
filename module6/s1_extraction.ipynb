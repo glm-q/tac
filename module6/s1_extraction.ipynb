{
 "cells": [
  {
   "cell_type": "markdown",
   "metadata": {},
   "source": [
    "# Extraire le texte dans des documents \"riches\""
   ]
  },
  {
   "cell_type": "markdown",
   "metadata": {},
   "source": [
    "## Imports"
   ]
  },
  {
   "cell_type": "code",
   "execution_count": 1,
   "metadata": {},
   "outputs": [],
   "source": [
    "import os\n",
    "import textract\n",
    "import openpyxl"
   ]
  },
  {
   "cell_type": "markdown",
   "metadata": {},
   "source": [
    "## Lister les fichiers dans le répertoire `dummy`"
   ]
  },
  {
   "cell_type": "code",
   "execution_count": 2,
   "metadata": {},
   "outputs": [
    {
     "name": "stdout",
     "output_type": "stream",
     "text": [
      "['test.doc', 'test.docx', 'test.jpg', 'test.mp3', 'test.odt', 'test.pdf', 'test.png', 'test.pptx', 'test.rtf', 'test.txt', 'test.xls']\n"
     ]
    }
   ],
   "source": [
    "path = 'dummy/'\n",
    "files = os.listdir(path)\n",
    "print(files)"
   ]
  },
  {
   "cell_type": "markdown",
   "metadata": {},
   "source": [
    "## Extraire le texte de chacun des fichiers à l'aide de la librairie `textract`\n"
   ]
  },
  {
   "cell_type": "code",
   "execution_count": 4,
   "metadata": {},
   "outputs": [
    {
     "name": "stdout",
     "output_type": "stream",
     "text": [
      "dummy/test.doc The command `antiword dummy/test.doc` failed with exit code 127\n",
      "------------- stdout -------------\n",
      "------------- stderr -------------\n",
      "\n",
      "test.docx\n",
      "Ceci est un document docx.\n",
      "test.jpg\n",
      "Ceci est un document jpg.\n",
      "dummy/test.mp3 The command `sox -G -c 1 dummy/test.mp3 C:\\Users\\glmqu\\AppData\\Local\\Temp\\tmpnytrj_lk.wav` failed with exit code 127\n",
      "------------- stdout -------------\n",
      "------------- stderr -------------\n",
      "\n",
      "test.odt\n",
      "Ceci est un document odt.\n",
      "test.pdf\n",
      "Ceci est un document pdf.\n",
      "test.png\n",
      "Ceci est un document png.\n",
      "test.pptx\n",
      "Ceci est un document pptx.\n",
      "dummy/test.rtf The command `unrtf --text dummy/test.rtf` failed with exit code 127\n",
      "------------- stdout -------------\n",
      "------------- stderr -------------\n",
      "\n",
      "test.txt\n",
      "Ceci est un document txt.\n",
      "test.xls\n",
      "Ceci est un document xlsx.\n"
     ]
    }
   ],
   "source": [
    "for f in sorted(files): # récupérer le texte de chacun des documents différents\n",
    "    try:\n",
    "        text = textract.process(os.path.join(path, f))\n",
    "        print(f)\n",
    "        print(text.decode('utf-8').strip())\n",
    "    except Exception as e:\n",
    "        print(os.path.join(path, f), e)"
   ]
  }
 ],
 "metadata": {
  "kernelspec": {
   "display_name": "Python 3.10.5 ('tac_venv': venv)",
   "language": "python",
   "name": "python3"
  },
  "language_info": {
   "codemirror_mode": {
    "name": "ipython",
    "version": 3
   },
   "file_extension": ".py",
   "mimetype": "text/x-python",
   "name": "python",
   "nbconvert_exporter": "python",
   "pygments_lexer": "ipython3",
   "version": "3.10.5"
  },
  "vscode": {
   "interpreter": {
    "hash": "c41795ef67e28f443d51e3530ac426b505c5d8c966af08c2f17a523686b1e2cc"
   }
  }
 },
 "nbformat": 4,
 "nbformat_minor": 4
}
