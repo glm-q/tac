{
 "cells": [
  {
   "cell_type": "markdown",
   "metadata": {},
   "source": [
    "# TP1: APIs: requêtes HTTP"
   ]
  },
  {
   "cell_type": "markdown",
   "metadata": {},
   "source": [
    "## Imports"
   ]
  },
  {
   "cell_type": "code",
   "execution_count": 1,
   "metadata": {},
   "outputs": [],
   "source": [
    "import json\n",
    "import requests"
   ]
  },
  {
   "cell_type": "markdown",
   "metadata": {},
   "source": [
    "## Utiliser [Detect Language API](https://detectlanguage.com/) pour identifier automatiquement la langue d'un article de presse"
   ]
  },
  {
   "cell_type": "markdown",
   "metadata": {},
   "source": [
    "Même si cette proposition n'est pas la plus utile pour l'instant, puisque le corpus sur lequel se base le projet CAMille est francophone, du moins à ma connaissance, elle pourrait le devenir dans une partie ultérieure du projet (Brecht Deseure, lors de sa présentation, a évoqué l'idée d'étendre le corpus à la presse néerlandophone)."
   ]
  },
  {
   "cell_type": "code",
   "execution_count": 3,
   "metadata": {},
   "outputs": [
    {
     "name": "stdout",
     "output_type": "stream",
     "text": [
      "Texte : \"L'inflation a atteint un taux record en Europe.\"\n",
      "Ce texte est assurément écrit en fr.\n",
      "---\n",
      "Texte : \"De inflatie heeft in Europa een recordhoogte bereikt.\"\n",
      "Ce texte est assurément écrit en nl.\n",
      "---\n",
      "Texte : \"Die Inflation hat in Europa ein Rekordhoch erreicht.\"\n",
      "Ce texte est assurément écrit en de.\n"
     ]
    }
   ],
   "source": [
    "key = \"&key=25bcfe72224f01520befdb2db4929f41\" # My API key\n",
    "url = \"https://ws.detectlanguage.com/0.2/detect?q=\"\n",
    "\n",
    "text_fr = \"L'inflation a atteint un taux record en Europe.\"\n",
    "text_nl = \"De inflatie heeft in Europa een recordhoogte bereikt.\"\n",
    "text_de = \"Die Inflation hat in Europa ein Rekordhoch erreicht.\"\n",
    "\n",
    "def identify_language(text): # Fonction qui va être appelée sur les deux textes\n",
    "\n",
    "    resp = requests.get(url+text+key) # on crée l'URL de requête à partir des variables données ci-dessus\n",
    "\n",
    "    # L'API renvoie les résultats \"enveloppés\" dans un dictionnaire detections{}, lui-même enveloppé dans un dictionnaire data{}, chacun avec un seul élément\n",
    "    # Les lignes suivantes (certainement très peu optimisées) ont pour objectif d'aller extraire le dictionnaire contenant les réponses à notre requête\n",
    "    resp_in_json = resp.json()\n",
    "    data = resp_in_json['data']\n",
    "    detections = data['detections']\n",
    "\n",
    "    print(f'Texte : \"{text}\"')\n",
    "\n",
    "    try:\n",
    "        for item in detections: # On parcourt l'ensemble du dictionnaire pour prendre en compte toutes les détections de langues effectuées et on distingue les détections auxquelles on peut faire confiance (reliable) des autres\n",
    "            language = item['language']\n",
    "            if (item['isReliable']):\n",
    "                print(f'Ce texte est assurément écrit en {language}.')\n",
    "            else:\n",
    "                print(f\"Il est peut-être écrit en {language}, mais c'est peu probable.\")\n",
    "    except KeyError:\n",
    "        print(\"Aucune langue correspondante trouvée.\")\n",
    "\n",
    "identify_language(text_fr)\n",
    "print(\"---\")\n",
    "identify_language(text_nl)\n",
    "print(\"---\")\n",
    "identify_language(text_de)"
   ]
  }
 ],
 "metadata": {
  "kernelspec": {
   "display_name": "Python 3.10.5 ('tac_venv': venv)",
   "language": "python",
   "name": "python3"
  },
  "language_info": {
   "codemirror_mode": {
    "name": "ipython",
    "version": 3
   },
   "file_extension": ".py",
   "mimetype": "text/x-python",
   "name": "python",
   "nbconvert_exporter": "python",
   "pygments_lexer": "ipython3",
   "version": "3.10.5"
  },
  "vscode": {
   "interpreter": {
    "hash": "c41795ef67e28f443d51e3530ac426b505c5d8c966af08c2f17a523686b1e2cc"
   }
  }
 },
 "nbformat": 4,
 "nbformat_minor": 4
}
